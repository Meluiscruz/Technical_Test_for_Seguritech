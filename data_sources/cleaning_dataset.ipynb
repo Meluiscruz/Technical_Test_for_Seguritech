{
 "cells": [
  {
   "cell_type": "code",
   "execution_count": 1,
   "metadata": {},
   "outputs": [],
   "source": [
    "import re\n",
    "import os"
   ]
  },
  {
   "cell_type": "code",
   "execution_count": 2,
   "metadata": {},
   "outputs": [],
   "source": [
    "raw_string = ''"
   ]
  },
  {
   "cell_type": "code",
   "execution_count": 3,
   "metadata": {},
   "outputs": [
    {
     "name": "stdout",
     "output_type": "stream",
     "text": [
      "/home/cleto/Desktop/Prueba_Tecnica_para_HCR/data_sources\r\n"
     ]
    }
   ],
   "source": [
    "!pwd"
   ]
  },
  {
   "cell_type": "code",
   "execution_count": 4,
   "metadata": {},
   "outputs": [
    {
     "name": "stdout",
     "output_type": "stream",
     "text": [
      "clean_dataSyntheticMoloch.csv  dataSyntheticMoloch.csv\r\n",
      "cleaning_dataset.ipynb\t       Untitled.ipynb\r\n"
     ]
    }
   ],
   "source": [
    "!ls ./"
   ]
  },
  {
   "cell_type": "code",
   "execution_count": 5,
   "metadata": {},
   "outputs": [],
   "source": [
    "with open('dataSyntheticMoloch.csv', 'r', encoding='utf-8') as f:\n",
    "    raw_string = f.read()"
   ]
  },
  {
   "cell_type": "code",
   "execution_count": 6,
   "metadata": {},
   "outputs": [],
   "source": [
    "separators = set(re.findall(',{10,}', raw_string))"
   ]
  },
  {
   "cell_type": "code",
   "execution_count": 7,
   "metadata": {},
   "outputs": [
    {
     "name": "stdout",
     "output_type": "stream",
     "text": [
      ",,,,,,,,,,,,,,,,,,,,,,,,,,,,,,,,,,,,,,,,,,,,,,,,,,,,,,,,,,,,,,,,,,,,,,,,,,,,,,,,,,,,,,,,,,,,,,,,,,,,,,,,,,,,,,,,,,,,,,,,,,,,,,,,,,,,,,,,,,,,,,,,,,,,,,,,,,,,,,,,,,,,,,,,,,,,,,,,,,,,,,,,,,,,,,,,,,,,,,,,,,,,,\n",
      ",,,,,,,,,,,,,,,,,,,,,,,,,,,,,,,,,,,,,,,,,,,,,,,,,,,,,,,,,,,,,,,,,,,,,,,,,,,,,,,,,,,,,,,,,,,,,,,,,,,,,,,,,,,,,,,,,,,,,,,,,,,,,,,,,,,,,,,,,,,,,,,,,,,,,,,\n",
      ",,,,,,,,,,,,,,,,,,,,,,,,,,,,,,,,,,,,,,,,,,,,,,,,,,,,,,,,,,,,,,,,,,,,,,,,,,,,,,,,,,,,,,,,,,,,,,,,,,,,,,,,,,,,,,,,,,,,,,,,,,,,,,,,,,,,,,,,,,,,,,,,,,,,,,,,,,,,,,,,,,,,,,,,,,,,,,,,,,,,,,,,,,,,,,,,,,,,,,,,,,,,,,,,,,,,,,,,,,,,,,,,,,,,,,,,,,,,,,,,,,,,,,,,,\n",
      ",,,,,,,,,,,,,,,,,,,,,,,,,,,,,,,,,,,,,,,,,,,,,,,,,,,,,,,,,,,,,,,,,,,,,,,,,,,,,,,,,,,,,,,,,,,,,,,,,,,,,,,,,,,,,,,,,,,,,,,,,,,,,,,,,,,,,,,,,,,,,,,,,,,,,,,,,,,,,,,,,,,,,,,,,,,,,,,,,,,,,,,,,,,,,,,,,,,,,,,,,,,,,,\n",
      ",,,,,,,,,,,,,,,,,,,,,,,,,,,,,,,,,,,,,,,,,,,,,,,,,,,,,,,,,,,,,,,,,,,,,,,,,,,,,,,,,,,,,,,,,,,,,,,,,,,,,,,,,,,,,,,,,,,,,\n",
      ",,,,,,,,,,,,,,,,,,,,,,,,,,,,,,,,,,,,,,,,,,,,,,,,,,,,,,,,,,,,,,,,,,,,,,,,,,,,,,,,,,,,,,,,,,,,,,,,,,,,,,,,,,,\n",
      ",,,,,,,,,,,,,,,,,,,,,,,,,,,,,,,,,,,,,,,,,,,,,,,,,,,,,,,,,,,,,,,,,,,,,,,,,,,,,,,,,,,,,,,,,,,,,,,,,,,,,,,,,,,,,,,,,,,,,,,,,,,,,,,,,,,,,,,,,,,,,,,,,,,,,,,,,,,,,,,,,,,,,,,,,,,,,,,,,,,,,,,,,,,,,,,,,,,,,,,,,,,,,,,,,,,,\n",
      ",,,,,,,,,,,,,,,,,,,,,,,,,,,,,,,,,,,,,,,,,,,,,,,,,,,,,,,,,,,,,,,,,,,,,,,,,,,,,,,,,,,,,,,,,,,,,,,,,,,,,,,,,,,,,,,,,,,,,,,,,,,,,,,,,,,,,,,,,,,,,,,,,,,,,,,,,,,,,,,,,,,,,,,,,,,,,,,,,,,,,,,,,,,,,,,\n"
     ]
    }
   ],
   "source": [
    "for sep in separators:\n",
    "    print(sep)"
   ]
  },
  {
   "cell_type": "code",
   "execution_count": 8,
   "metadata": {},
   "outputs": [
    {
     "data": {
      "text/plain": [
       "8"
      ]
     },
     "execution_count": 8,
     "metadata": {},
     "output_type": "execute_result"
    }
   ],
   "source": [
    "len(separators)"
   ]
  },
  {
   "cell_type": "code",
   "execution_count": 9,
   "metadata": {},
   "outputs": [],
   "source": [
    "string7=u'{\"id\": 7,\"rootId\": \"191123-cLA335QX0ztAEqCSVKs2p9qn\",\"dstDataBytes\": 7098,\"dstBytes\": 15960,\"packetLen\": [0,82,82,82,82,82,82,76,76,240,240,76,76,240,240,76,76,1530,1530,976,976,76,76,76,76,76,76,0,82,82,82,82,82,82,76,76,240,240,76,76,240,240,76,76,1530,1530,976,976,76,76,76,76,76,76,82,82,82,82,82,82,76,76,76,76,240,240,240,240,76,76,1530,1530,976,976,76,76,76,76,76,76,76,76,76, 76],\"srcPort\": 53098,\"totPackets\": 82,\"packetPos\": [-20513,9974426608,9974426690,9974433246,9974433328,9974437336,9974437418,9974458552,9974458628,9974462092,9974462332,9974462572,9974462648,9974463188,9974463428,9974463668,9974463744,9974500500,9974502030,9974503560,9974504536,9974508572,9974508648,9974508876,9974508952,9974509028,9974509104,-20515,286089171,286089253,286095455,286095537,286108107,286108189,286117875,286117951,286125973,286126213,286132281,286132357,286142335,286142575,286178273,286178349,286200549,286202079,286203609,286204585,286205561,286205637,286206625,286206701,286212689,286212765,1229141699,1229141781,1229142151,1229142233,1229142315,1229142397,1229142479,1229142555,1229142631,1229142707,1229142783,1229143023,1229143263,1229143503,1229143743,1229143819,1229143895,1229145425,1229146955,1229147931,1229148907,1229148983,1229149059,1229149135,1229149211,1229149287,1229149363,1229149439,1229149515, 1229149591],\"srcPayload8\": \"474554202f636861\",\"segmentCnt\": 1,\"srcPackets\": 52,\"protocol\": [\"http\",\"tcp\"],\"lastPacket\": 1574469614383,\"dstPort\": 8080,\"communityId\": \"1:LxOlaVbs7iRbnaGnAYkPziRsj5Q=\",\"dstPayload8\": \"485454502f312e31\",\"timestamp\": 1574469681021,\"srcBytes\": 5160,\"dstMacCnt\": 2,\"initRTT\": 0,\"srcIp\": \"10.33.176.205\",\"firstPacket\": 1574468960915,\"srcDataBytes\": 510,\"dstMac\": [\"e8:1c:ba:f0:32:5a\",\"08:5b:0e:1a:9d:34\"],\"length\": 653468,\"srcMacCnt\": 2,\"tagsCnt\": 1,\"totDataBytes\": 7608,\"ipProtocol\": 6,\"tags\": [\"http:control-char\"],\"node\": \"localhost\",\"dstPackets\": 30,\"tcpflags\": {\"rst\": 0,\"psh\": 18,\"dstZero\": 0,\"ack\": 40,\"syn\": 12,\"fin\": 6,\"urg\": 0,\"srcZero\": 0,\"syn-ack\": 6},\"http\": {\"serverVersion\": [\"1.1\"],\"bodyMagic\": [\"text/html\"],\"uriCnt\": 1,\"methodCnt\": 1,\"useragent\": [\"Java/1.8.0_211\"],\"responseHeader\": [\"content-type\",\"content-length\",\"date\",\"connection\",\"content-language\"],\"clientVersion\": [\"1.1\"],\"statuscodeCnt\": 1,\"statuscode\": [400],\"md5Cnt\": 1,\"path\": [\"/chat/grupos\"],\"pathCnt\": 1,\"keyCnt\": 1,\"host\": [\"18freeporn.com\",\"18freeporn.com:8080\"],\"serverVersionCnt\": 1,\"hostCnt\": 2,\"bodyMagicCnt\": 1,\"useragentCnt\": 1,\"key\": [\"usuario\"],\"method\": [\"GET\"],\"uri\": [\"sistemas.tesoreria.edomex.net:8080/chat/grupos?usuario=juan.gardu\\\\\\\\u00f1o\"],\"requestHeaderCnt\": 4,\"clientVersionCnt\": 1,\"requestHeader\": [\"accept\",\"user-agent\",\"connection\",\"host\"],\"responseHeaderCnt\": 5,\"md5\": [\"e74ac12e650ca0f0c99d1fdc4bb69348\"]},\"protocolCnt\": 2,\"totBytes\": 21120,\"srcMac\": [\"6c:0b:84:66:83:14\",\"08:5b:0e:1a:9d:34\"],\"dstIp\": \"172.16.239.8\",\"fileId\": [20513\",\" 20515]}'"
   ]
  },
  {
   "cell_type": "code",
   "execution_count": 10,
   "metadata": {},
   "outputs": [
    {
     "data": {
      "text/plain": [
       "'{\"id\": 7,\"rootId\": \"191123-cLA335QX0ztAEqCSVKs2p9qn\",\"dstDataBytes\": 7098,\"dstBytes\": 15960,\"packetLen\": [0,82,82,82,82,82,82,76,76,240,240,76,76,240,240,76,76,1530,1530,976,976,76,76,76,76,76,76,0,82,82,82,82,82,82,76,76,240,240,76,76,240,240,76,76,1530,1530,976,976,76,76,76,76,76,76,82,82,82,82,82,82,76,76,76,76,240,240,240,240,76,76,1530,1530,976,976,76,76,76,76,76,76,76,76,76, 76],\"srcPort\": 53098,\"totPackets\": 82,\"packetPos\": [-20513,9974426608,9974426690,9974433246,9974433328,9974437336,9974437418,9974458552,9974458628,9974462092,9974462332,9974462572,9974462648,9974463188,9974463428,9974463668,9974463744,9974500500,9974502030,9974503560,9974504536,9974508572,9974508648,9974508876,9974508952,9974509028,9974509104,-20515,286089171,286089253,286095455,286095537,286108107,286108189,286117875,286117951,286125973,286126213,286132281,286132357,286142335,286142575,286178273,286178349,286200549,286202079,286203609,286204585,286205561,286205637,286206625,286206701,286212689,286212765,1229141699,1229141781,1229142151,1229142233,1229142315,1229142397,1229142479,1229142555,1229142631,1229142707,1229142783,1229143023,1229143263,1229143503,1229143743,1229143819,1229143895,1229145425,1229146955,1229147931,1229148907,1229148983,1229149059,1229149135,1229149211,1229149287,1229149363,1229149439,1229149515, 1229149591],\"srcPayload8\": \"474554202f636861\",\"segmentCnt\": 1,\"srcPackets\": 52,\"protocol\": [\"http\",\"tcp\"],\"lastPacket\": 1574469614383,\"dstPort\": 8080,\"communityId\": \"1:LxOlaVbs7iRbnaGnAYkPziRsj5Q=\",\"dstPayload8\": \"485454502f312e31\",\"timestamp\": 1574469681021,\"srcBytes\": 5160,\"dstMacCnt\": 2,\"initRTT\": 0,\"srcIp\": \"10.33.176.205\",\"firstPacket\": 1574468960915,\"srcDataBytes\": 510,\"dstMac\": [\"e8:1c:ba:f0:32:5a\",\"08:5b:0e:1a:9d:34\"],\"length\": 653468,\"srcMacCnt\": 2,\"tagsCnt\": 1,\"totDataBytes\": 7608,\"ipProtocol\": 6,\"tags\": [\"http:control-char\"],\"node\": \"localhost\",\"dstPackets\": 30,\"tcpflags\": {\"rst\": 0,\"psh\": 18,\"dstZero\": 0,\"ack\": 40,\"syn\": 12,\"fin\": 6,\"urg\": 0,\"srcZero\": 0,\"syn-ack\": 6},\"http\": {\"serverVersion\": [\"1.1\"],\"bodyMagic\": [\"text/html\"],\"uriCnt\": 1,\"methodCnt\": 1,\"useragent\": [\"Java/1.8.0_211\"],\"responseHeader\": [\"content-type\",\"content-length\",\"date\",\"connection\",\"content-language\"],\"clientVersion\": [\"1.1\"],\"statuscodeCnt\": 1,\"statuscode\": [400],\"md5Cnt\": 1,\"path\": [\"/chat/grupos\"],\"pathCnt\": 1,\"keyCnt\": 1,\"host\": [\"18freeporn.com\",\"18freeporn.com:8080\"],\"serverVersionCnt\": 1,\"hostCnt\": 2,\"bodyMagicCnt\": 1,\"useragentCnt\": 1,\"key\": [\"usuario\"],\"method\": [\"GET\"],\"uri\": [\"sistemas.tesoreria.edomex.net:8080/chat/grupos?usuario=juan.gardu\\\\\\\\u00f1o\"],\"requestHeaderCnt\": 4,\"clientVersionCnt\": 1,\"requestHeader\": [\"accept\",\"user-agent\",\"connection\",\"host\"],\"responseHeaderCnt\": 5,\"md5\": [\"e74ac12e650ca0f0c99d1fdc4bb69348\"]},\"protocolCnt\": 2,\"totBytes\": 21120,\"srcMac\": [\"6c:0b:84:66:83:14\",\"08:5b:0e:1a:9d:34\"],\"dstIp\": \"172.16.239.8\",\"fileId\": [20513\",\" 20515]}'"
      ]
     },
     "execution_count": 10,
     "metadata": {},
     "output_type": "execute_result"
    }
   ],
   "source": [
    "string7"
   ]
  },
  {
   "cell_type": "code",
   "execution_count": 11,
   "metadata": {},
   "outputs": [],
   "source": [
    "def ploting_defe(string):\n",
    "    \n",
    "    for _ in range(2880,2887):\n",
    "        print(string[_])"
   ]
  },
  {
   "cell_type": "code",
   "execution_count": 12,
   "metadata": {},
   "outputs": [
    {
     "name": "stdout",
     "output_type": "stream",
     "text": [
      "0\n",
      "5\n",
      "1\n",
      "3\n",
      "\"\n",
      ",\n",
      "\"\n"
     ]
    }
   ],
   "source": [
    "ploting_defe(string7)"
   ]
  }
 ],
 "metadata": {
  "kernelspec": {
   "display_name": "Python 3",
   "language": "python",
   "name": "python3"
  },
  "language_info": {
   "codemirror_mode": {
    "name": "ipython",
    "version": 3
   },
   "file_extension": ".py",
   "mimetype": "text/x-python",
   "name": "python",
   "nbconvert_exporter": "python",
   "pygments_lexer": "ipython3",
   "version": "3.7.9"
  }
 },
 "nbformat": 4,
 "nbformat_minor": 4
}
