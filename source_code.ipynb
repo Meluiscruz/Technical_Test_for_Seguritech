{
 "cells": [
  {
   "cell_type": "markdown",
   "metadata": {},
   "source": [
    "# **Desarrollo del la prueba técnica para HCR**"
   ]
  },
  {
   "cell_type": "markdown",
   "metadata": {},
   "source": [
    "### Desarrollador: Luis Arturo Cruz Cruz\n",
    "- Email: info@meluiscruz.com\n",
    "- Puesto: Data Engineer para Seguritech\n",
    "- Reclutador: Alberto Ramirez\n",
    "- Fecha: 1 de marzo, 2021."
   ]
  },
  {
   "cell_type": "markdown",
   "metadata": {},
   "source": [
    "#### 1) Definimos la cabecera del proyecto"
   ]
  },
  {
   "cell_type": "code",
   "execution_count": 1,
   "metadata": {},
   "outputs": [],
   "source": [
    "from pyspark import SparkContext, SparkConf\n",
    "from pyspark.sql import SparkSession\n",
    "\n",
    "from pyspark.sql.types import StructType, StructField\n",
    "from pyspark.sql.types import IntegerType, StringType, FloatType, TimestampType\n",
    "from pyspark.sql.types import Row\n",
    "from pyspark.sql.functions import *\n",
    "from pyspark.sql import SQLContext"
   ]
  },
  {
   "cell_type": "code",
   "execution_count": 2,
   "metadata": {},
   "outputs": [],
   "source": [
    "spark = SparkSession.builder \\\n",
    "        .master(\"local\") \\\n",
    "        .appName(\"Technical_Test\")\\\n",
    "        .getOrCreate()"
   ]
  },
  {
   "cell_type": "code",
   "execution_count": 3,
   "metadata": {},
   "outputs": [],
   "source": [
    "sc = SparkContext.getOrCreate()\n",
    "sqlContext = SQLContext(sc)"
   ]
  },
  {
   "cell_type": "markdown",
   "metadata": {},
   "source": [
    "#### 2) Declaramos la ruta del archivo\n",
    "Nota: El archivo fue previamente procesado en una copia para el mejor acondicionamiento y destilación de los datos."
   ]
  },
  {
   "cell_type": "code",
   "execution_count": 4,
   "metadata": {},
   "outputs": [
    {
     "name": "stdout",
     "output_type": "stream",
     "text": [
      "clean_dataSyntheticMoloch.csv  cleaning_dataset.ipynb  dataSyntheticMoloch.csv\r\n"
     ]
    }
   ],
   "source": [
    "!ls data_sources/"
   ]
  },
  {
   "cell_type": "code",
   "execution_count": 5,
   "metadata": {},
   "outputs": [],
   "source": [
    "path = './data_sources/'"
   ]
  },
  {
   "cell_type": "code",
   "execution_count": 6,
   "metadata": {
    "scrolled": false
   },
   "outputs": [
    {
     "name": "stdout",
     "output_type": "stream",
     "text": [
      " data||timestamp||id||index||partition \r",
      "\r\n",
      "\"{\\id\\\"\": 1\",\"\\\"\"dstDataBytes\\\"\": 84\",\" \\\"\"dstBytes\\\"\": 92\",\" \\\"\"packetLen\\\"\": [0\",104, 108],\" \\\"\"srcPort\\\"\": 41906\",\" \\\"\"totPackets\\\"\": 2\",\" \\\"\"packetPos\\\"\": [-20456,12452575424, 12452575528],\" \\\"\"srcPayload8\\\"\": \\\"\"302c02010104066e\\\"\"\",\" \\\"\"segmentCnt\\\"\": 1\",\" \\\"\"srcPackets\\\"\": 1\",\" \\\"\"protocol\\\"\": [\\\"\"udp\\\"\"\",\" \\\"\"snmp\\\"\"]\",\" \\\"\"lastPacket\\\"\": 1574403347879\",\" \\\"\"dstPort\\\"\": 161\",\" \\\"\"communityId\\\"\": \\\"\"1:iMBcVXr7c4KmnKeSnA/rTTFPvSo=\\\"\"\",\" \\\"\"dstPayload8\\\"\": \\\"\"303002010104066e\\\"\"\",\" \\\"\"timestamp\\\"\": 1574403378042\",\" \\\"\"srcBytes\\\"\": 88\",\" \\\"\"dstMacCnt\\\"\": 1\",\" \\\"\"srcIp\\\"\": \\\"\"10.33.14.35\\\"\"\",\" \\\"\"firstPacket\\\"\": 1574403347879\",\" \\\"\"srcDataBytes\\\"\": 80\",\" \\\"\"dstMac\\\"\": [\\\"\"40:ce:24:8a:ea:80\\\"\"]\",\" \\\"\"length\\\"\": 0\",\" \\\"\"srcMacCnt\\\"\": 1\",\" \\\"\"totDataBytes\\\"\": 164\",\" \\\"\"ipProtocol\\\"\": 17\",\" \\\"\"node\\\"\": \\\"\"localhost\\\"\"\",\" \\\"\"dstPackets\\\"\": 1\",\" \\\"\"protocolCnt\\\"\": 2\",\" \\\"\"totBytes\\\"\": 180\",\" \\\"\"srcMac\\\"\": [\\\"\"d0:27:88:42:f4:8a\\\"\"]\",\" \\\"\"dstIp\\\"\": \\\"\"10.33.191.126\\\"\"\",\" \\\"\"fileId\\\"\": [20456]}\"\"\"||2019-11-22T00:16:18.042-06:00||191122-cLA1a4d6dN1NP6_r80RW_gke||sessions2-*||01/11/2019\r",
      "\r\n",
      "\"{\\id\\\"\": 2\",\"\\\"\"dstDataBytes\\\"\": 0\",\" \\\"\"dstBytes\\\"\": 0\",\" \\\"\"packetLen\\\"\": [0\",105, 105],\" \\\"\"srcPort\\\"\": 58024\",\" \\\"\"totPackets\\\"\": 2\",\" \\\"\"packetPos\\\"\": [-20522,836216338, 837714471],\" \\\"\"srcPayload8\\\"\": \\\"\"5872000000010000\\\"\"\",\" \\\"\"segmentCnt\\\"\": 1\",\" \\\"\"srcPackets\\\"\": 2\",\" \\\"\"protocol\\\"\": [\\\"\"udp\\\"\"\",\" \\\"\"llmnr\\\"\"]\",\" \\\"\"lastPacket\\\"\": 1574477512229\",\" \\\"\"dstPort\\\"\": 5355\",\" \\\"\"communityId\\\"\": \\\"\"1:JGzuIaOlUAU9EpXO0XxV0N8MCuo=\\\"\"\",\" \\\"\"timestamp\\\"\": 1574477543062\",\" \\\"\"srcBytes\\\"\": 178\",\" \\\"\"dstMacCnt\\\"\": 1\",\" \\\"\"srcIp\\\"\": \\\"\"fe80::b1cb:ab14:b1ce:ec88\\\"\"\",\" \\\"\"firstPacket\\\"\": 1574477511816\",\" \\\"\"srcDataBytes\\\"\": 162\",\" \\\"\"dstMac\\\"\": [\\\"\"33:33:00:01:00:03\\\"\"]\",\" \\\"\"length\\\"\": 414\",\" \\\"\"srcMacCnt\\\"\": 1\",\" \\\"\"dns\\\"\": {\\\"\"qcCnt\\\"\": 1\",\" \\\"\"qc\\\"\": [\\\"\"IN\\\"\"]\",\" \\\"\"qt\\\"\": [\\\"\"AAAA\\\"\"]\",\" \\\"\"host\\\"\": [\\\"\"npi3ba753\\\"\"]\",\" \\\"\"qtCnt\\\"\": 1\",\" \\\"\"opcodeCnt\\\"\": 1\",\" \\\"\"opcode\\\"\": [\\\"\"QUERY\\\"\"]\",\" \\\"\"hostCnt\\\"\": 1}\",\" \\\"\"totDataBytes\\\"\": 162\",\" \\\"\"ipProtocol\\\"\": 17\",\" \\\"\"node\\\"\": \\\"\"localhost\\\"\"\",\" \\\"\"dstPackets\\\"\": 0\",\" \\\"\"protocolCnt\\\"\": 2\",\" \\\"\"totBytes\\\"\": 178\",\" \\\"\"srcMac\\\"\": [\\\"\"f4:39:09:01:2b:6b\\\"\"]\",\" \\\"\"dstIp\\\"\": \\\"\"ff02::1:3\\\"\"\",\" \\\"\"fileId\\\"\": [20522]}\"\"\"||2019-11-22T20:52:23.062-06:00||191123-cLAIOqWgxItFMpnpF7aKYhUv||sessions2-*||01/11/2019\r",
      "\r\n",
      "\"{\\id\\\"\": 3\",\"\\\"\"dstDataBytes\\\"\": 172\",\" \\\"\"dstBytes\\\"\": 188\",\" \\\"\"packetLen\\\"\": [0\",94,94,110, 110],\" \\\"\"srcPort\\\"\": 42303\",\" \\\"\"totPackets\\\"\": 4\",\" \\\"\"packetPos\\\"\": [-20459,9409469199,9409469293,9409470785, 9409470895],\" \\\"\"srcPayload8\\\"\": \\\"\"04d2010000010000\\\"\"\",\" \\\"\"segmentCnt\\\"\": 1\",\" \\\"\"srcPackets\\\"\": 2\",\" \\\"\"protocol\\\"\": [\\\"\"udp\\\"\"\",\" \\\"\"dns\\\"\"]\",\" \\\"\"lastPacket\\\"\": 1574407805222\",\" \\\"\"dstPort\\\"\": 53\",\" \\\"\"dstASN\\\"\": \\\"\"AS15169 Google LLC\\\"\"\",\" \\\"\"communityId\\\"\": \\\"\"1:ZixvoV91Z4wmEZ/I+zBeyoDJwNk=\\\"\"\",\" \\\"\"dstPayload8\\\"\": \\\"\"04d2818000010001\\\"\"\",\" \\\"\"timestamp\\\"\": 1574407836037\",\" \\\"\"srcBytes\\\"\": 156\",\" \\\"\"dstMacCnt\\\"\": 1\",\" \\\"\"srcIp\\\"\": \\\"\"192.168.1.2\\\"\"\",\" \\\"\"dstGEO\\\"\": \\\"\"US\\\"\"\",\" \\\"\"firstPacket\\\"\": 1574407805222\",\" \\\"\"srcDataBytes\\\"\": 140\",\" \\\"\"dstMac\\\"\": [\\\"\"f4:c6:13:e7:b2:20\\\"\"]\",\" \\\"\"length\\\"\": 0\",\" \\\"\"srcMacCnt\\\"\": 1\",\" \\\"\"dns\\\"\": {\\\"\"qt\\\"\": [\\\"\"A\\\"\"]\",\" \\\"\"ip\\\"\": [\\\"\"198.41.0.4\\\"\"]\",\" \\\"\"qtCnt\\\"\": 1\",\" \\\"\"opcodeCnt\\\"\": 1\",\" \\\"\"opcode\\\"\": [\\\"\"QUERY\\\"\"]\",\" \\\"\"statusCnt\\\"\": 1\",\" \\\"\"GEO\\\"\": [\\\"\"US\\\"\"]\",\" \\\"\"qcCnt\\\"\": 1\",\" \\\"\"qc\\\"\": [\\\"\"IN\\\"\"]\",\" \\\"\"host\\\"\": [\\\"\"a.root-servers.net\\\"\"]\",\" \\\"\"ipCnt\\\"\": 1\",\" \\\"\"RIR\\\"\": [null]\",\" \\\"\"ASN\\\"\": [\\\"\"AS20172 VeriSign Global Registry Services\\\"\"]\",\" \\\"\"hostCnt\\\"\": 1\",\" \\\"\"status\\\"\": [\\\"\"NOERROR\\\"\"]}\",\" \\\"\"totDataBytes\\\"\": 312\",\" \\\"\"ipProtocol\\\"\": 17\",\" \\\"\"node\\\"\": \\\"\"localhost\\\"\"\",\" \\\"\"dstPackets\\\"\": 2\",\" \\\"\"protocolCnt\\\"\": 2\",\" \\\"\"totBytes\\\"\": 344\",\" \\\"\"srcMac\\\"\": [\\\"\"60:e3:27:46:10:29\\\"\"]\",\" \\\"\"dstIp\\\"\": \\\"\"8.8.8.8\\\"\"\",\" \\\"\"fileId\\\"\": [20459]}\"\"\"||2019-11-22T01:30:36.037-06:00||191122-cLAoQvjqLslOMJLVPhqQqHJz||sessions2-*||01/11/2019\r",
      "\r\n"
     ]
    }
   ],
   "source": [
    "#previsualizar las primeras 4 lineas del archivo\n",
    "!head -n 4 ./data_sources/clean_dataSyntheticMoloch.csv"
   ]
  },
  {
   "cell_type": "markdown",
   "metadata": {},
   "source": [
    "#### 3) Leemos el archivo csv para poder crear un RDD\n",
    "Nota: El separador de campos fue ajustado previamente a una doble pipeline \"||\"."
   ]
  },
  {
   "cell_type": "code",
   "execution_count": 7,
   "metadata": {},
   "outputs": [],
   "source": [
    "cleanMolochDataRDD = sc.textFile(path + \"clean_dataSyntheticMoloch.csv\")\\\n",
    "    .map(lambda line : line.split(\"||\"))"
   ]
  },
  {
   "cell_type": "markdown",
   "metadata": {},
   "source": [
    "## Solución del requerimiento 1."
   ]
  },
  {
   "cell_type": "code",
   "execution_count": 8,
   "metadata": {
    "scrolled": true
   },
   "outputs": [
    {
     "data": {
      "text/plain": [
       "[[' data', 'timestamp', 'id', 'index', 'partition '],\n",
       " ['\"{\\\\id\\\\\"\": 1\",\"\\\\\"\"dstDataBytes\\\\\"\": 84\",\" \\\\\"\"dstBytes\\\\\"\": 92\",\" \\\\\"\"packetLen\\\\\"\": [0\",104, 108],\" \\\\\"\"srcPort\\\\\"\": 41906\",\" \\\\\"\"totPackets\\\\\"\": 2\",\" \\\\\"\"packetPos\\\\\"\": [-20456,12452575424, 12452575528],\" \\\\\"\"srcPayload8\\\\\"\": \\\\\"\"302c02010104066e\\\\\"\"\",\" \\\\\"\"segmentCnt\\\\\"\": 1\",\" \\\\\"\"srcPackets\\\\\"\": 1\",\" \\\\\"\"protocol\\\\\"\": [\\\\\"\"udp\\\\\"\"\",\" \\\\\"\"snmp\\\\\"\"]\",\" \\\\\"\"lastPacket\\\\\"\": 1574403347879\",\" \\\\\"\"dstPort\\\\\"\": 161\",\" \\\\\"\"communityId\\\\\"\": \\\\\"\"1:iMBcVXr7c4KmnKeSnA/rTTFPvSo=\\\\\"\"\",\" \\\\\"\"dstPayload8\\\\\"\": \\\\\"\"303002010104066e\\\\\"\"\",\" \\\\\"\"timestamp\\\\\"\": 1574403378042\",\" \\\\\"\"srcBytes\\\\\"\": 88\",\" \\\\\"\"dstMacCnt\\\\\"\": 1\",\" \\\\\"\"srcIp\\\\\"\": \\\\\"\"10.33.14.35\\\\\"\"\",\" \\\\\"\"firstPacket\\\\\"\": 1574403347879\",\" \\\\\"\"srcDataBytes\\\\\"\": 80\",\" \\\\\"\"dstMac\\\\\"\": [\\\\\"\"40:ce:24:8a:ea:80\\\\\"\"]\",\" \\\\\"\"length\\\\\"\": 0\",\" \\\\\"\"srcMacCnt\\\\\"\": 1\",\" \\\\\"\"totDataBytes\\\\\"\": 164\",\" \\\\\"\"ipProtocol\\\\\"\": 17\",\" \\\\\"\"node\\\\\"\": \\\\\"\"localhost\\\\\"\"\",\" \\\\\"\"dstPackets\\\\\"\": 1\",\" \\\\\"\"protocolCnt\\\\\"\": 2\",\" \\\\\"\"totBytes\\\\\"\": 180\",\" \\\\\"\"srcMac\\\\\"\": [\\\\\"\"d0:27:88:42:f4:8a\\\\\"\"]\",\" \\\\\"\"dstIp\\\\\"\": \\\\\"\"10.33.191.126\\\\\"\"\",\" \\\\\"\"fileId\\\\\"\": [20456]}\"\"\"',\n",
       "  '2019-11-22T00:16:18.042-06:00',\n",
       "  '191122-cLA1a4d6dN1NP6_r80RW_gke',\n",
       "  'sessions2-*',\n",
       "  '01/11/2019']]"
      ]
     },
     "execution_count": 8,
     "metadata": {},
     "output_type": "execute_result"
    }
   ],
   "source": [
    "cleanMolochDataRDD.take(2)"
   ]
  },
  {
   "cell_type": "code",
   "execution_count": 9,
   "metadata": {
    "scrolled": true
   },
   "outputs": [
    {
     "data": {
      "text/plain": [
       "11"
      ]
     },
     "execution_count": 9,
     "metadata": {},
     "output_type": "execute_result"
    }
   ],
   "source": [
    "cleanMolochDataRDD.count()\n",
    "#La función count() permite saber la integridad del RDD."
   ]
  },
  {
   "cell_type": "code",
   "execution_count": 10,
   "metadata": {},
   "outputs": [],
   "source": [
    "#definimos una función que eliminará la primera linea del RDD (encabezado)\n",
    "def dropHeader(index,iterator):\n",
    "    return iter(list(iterator)[1:])"
   ]
  },
  {
   "cell_type": "code",
   "execution_count": 11,
   "metadata": {},
   "outputs": [],
   "source": [
    "DF_from_RDD_Moloch = cleanMolochDataRDD.mapPartitionsWithIndex(dropHeader)"
   ]
  },
  {
   "cell_type": "code",
   "execution_count": 12,
   "metadata": {
    "scrolled": false
   },
   "outputs": [
    {
     "data": {
      "text/plain": [
       "[['\"{\\\\id\\\\\"\": 1\",\"\\\\\"\"dstDataBytes\\\\\"\": 84\",\" \\\\\"\"dstBytes\\\\\"\": 92\",\" \\\\\"\"packetLen\\\\\"\": [0\",104, 108],\" \\\\\"\"srcPort\\\\\"\": 41906\",\" \\\\\"\"totPackets\\\\\"\": 2\",\" \\\\\"\"packetPos\\\\\"\": [-20456,12452575424, 12452575528],\" \\\\\"\"srcPayload8\\\\\"\": \\\\\"\"302c02010104066e\\\\\"\"\",\" \\\\\"\"segmentCnt\\\\\"\": 1\",\" \\\\\"\"srcPackets\\\\\"\": 1\",\" \\\\\"\"protocol\\\\\"\": [\\\\\"\"udp\\\\\"\"\",\" \\\\\"\"snmp\\\\\"\"]\",\" \\\\\"\"lastPacket\\\\\"\": 1574403347879\",\" \\\\\"\"dstPort\\\\\"\": 161\",\" \\\\\"\"communityId\\\\\"\": \\\\\"\"1:iMBcVXr7c4KmnKeSnA/rTTFPvSo=\\\\\"\"\",\" \\\\\"\"dstPayload8\\\\\"\": \\\\\"\"303002010104066e\\\\\"\"\",\" \\\\\"\"timestamp\\\\\"\": 1574403378042\",\" \\\\\"\"srcBytes\\\\\"\": 88\",\" \\\\\"\"dstMacCnt\\\\\"\": 1\",\" \\\\\"\"srcIp\\\\\"\": \\\\\"\"10.33.14.35\\\\\"\"\",\" \\\\\"\"firstPacket\\\\\"\": 1574403347879\",\" \\\\\"\"srcDataBytes\\\\\"\": 80\",\" \\\\\"\"dstMac\\\\\"\": [\\\\\"\"40:ce:24:8a:ea:80\\\\\"\"]\",\" \\\\\"\"length\\\\\"\": 0\",\" \\\\\"\"srcMacCnt\\\\\"\": 1\",\" \\\\\"\"totDataBytes\\\\\"\": 164\",\" \\\\\"\"ipProtocol\\\\\"\": 17\",\" \\\\\"\"node\\\\\"\": \\\\\"\"localhost\\\\\"\"\",\" \\\\\"\"dstPackets\\\\\"\": 1\",\" \\\\\"\"protocolCnt\\\\\"\": 2\",\" \\\\\"\"totBytes\\\\\"\": 180\",\" \\\\\"\"srcMac\\\\\"\": [\\\\\"\"d0:27:88:42:f4:8a\\\\\"\"]\",\" \\\\\"\"dstIp\\\\\"\": \\\\\"\"10.33.191.126\\\\\"\"\",\" \\\\\"\"fileId\\\\\"\": [20456]}\"\"\"',\n",
       "  '2019-11-22T00:16:18.042-06:00',\n",
       "  '191122-cLA1a4d6dN1NP6_r80RW_gke',\n",
       "  'sessions2-*',\n",
       "  '01/11/2019'],\n",
       " ['\"{\\\\id\\\\\"\": 2\",\"\\\\\"\"dstDataBytes\\\\\"\": 0\",\" \\\\\"\"dstBytes\\\\\"\": 0\",\" \\\\\"\"packetLen\\\\\"\": [0\",105, 105],\" \\\\\"\"srcPort\\\\\"\": 58024\",\" \\\\\"\"totPackets\\\\\"\": 2\",\" \\\\\"\"packetPos\\\\\"\": [-20522,836216338, 837714471],\" \\\\\"\"srcPayload8\\\\\"\": \\\\\"\"5872000000010000\\\\\"\"\",\" \\\\\"\"segmentCnt\\\\\"\": 1\",\" \\\\\"\"srcPackets\\\\\"\": 2\",\" \\\\\"\"protocol\\\\\"\": [\\\\\"\"udp\\\\\"\"\",\" \\\\\"\"llmnr\\\\\"\"]\",\" \\\\\"\"lastPacket\\\\\"\": 1574477512229\",\" \\\\\"\"dstPort\\\\\"\": 5355\",\" \\\\\"\"communityId\\\\\"\": \\\\\"\"1:JGzuIaOlUAU9EpXO0XxV0N8MCuo=\\\\\"\"\",\" \\\\\"\"timestamp\\\\\"\": 1574477543062\",\" \\\\\"\"srcBytes\\\\\"\": 178\",\" \\\\\"\"dstMacCnt\\\\\"\": 1\",\" \\\\\"\"srcIp\\\\\"\": \\\\\"\"fe80::b1cb:ab14:b1ce:ec88\\\\\"\"\",\" \\\\\"\"firstPacket\\\\\"\": 1574477511816\",\" \\\\\"\"srcDataBytes\\\\\"\": 162\",\" \\\\\"\"dstMac\\\\\"\": [\\\\\"\"33:33:00:01:00:03\\\\\"\"]\",\" \\\\\"\"length\\\\\"\": 414\",\" \\\\\"\"srcMacCnt\\\\\"\": 1\",\" \\\\\"\"dns\\\\\"\": {\\\\\"\"qcCnt\\\\\"\": 1\",\" \\\\\"\"qc\\\\\"\": [\\\\\"\"IN\\\\\"\"]\",\" \\\\\"\"qt\\\\\"\": [\\\\\"\"AAAA\\\\\"\"]\",\" \\\\\"\"host\\\\\"\": [\\\\\"\"npi3ba753\\\\\"\"]\",\" \\\\\"\"qtCnt\\\\\"\": 1\",\" \\\\\"\"opcodeCnt\\\\\"\": 1\",\" \\\\\"\"opcode\\\\\"\": [\\\\\"\"QUERY\\\\\"\"]\",\" \\\\\"\"hostCnt\\\\\"\": 1}\",\" \\\\\"\"totDataBytes\\\\\"\": 162\",\" \\\\\"\"ipProtocol\\\\\"\": 17\",\" \\\\\"\"node\\\\\"\": \\\\\"\"localhost\\\\\"\"\",\" \\\\\"\"dstPackets\\\\\"\": 0\",\" \\\\\"\"protocolCnt\\\\\"\": 2\",\" \\\\\"\"totBytes\\\\\"\": 178\",\" \\\\\"\"srcMac\\\\\"\": [\\\\\"\"f4:39:09:01:2b:6b\\\\\"\"]\",\" \\\\\"\"dstIp\\\\\"\": \\\\\"\"ff02::1:3\\\\\"\"\",\" \\\\\"\"fileId\\\\\"\": [20522]}\"\"\"',\n",
       "  '2019-11-22T20:52:23.062-06:00',\n",
       "  '191123-cLAIOqWgxItFMpnpF7aKYhUv',\n",
       "  'sessions2-*',\n",
       "  '01/11/2019']]"
      ]
     },
     "execution_count": 12,
     "metadata": {},
     "output_type": "execute_result"
    }
   ],
   "source": [
    "DF_from_RDD_Moloch.take(2)\n",
    "#Validando que el RDD ya no tiene el encabezado"
   ]
  },
  {
   "cell_type": "code",
   "execution_count": 13,
   "metadata": {},
   "outputs": [],
   "source": [
    "#' data', 'timestamp', 'id', 'index', 'partition '"
   ]
  },
  {
   "cell_type": "markdown",
   "metadata": {},
   "source": [
    "#### 4) Creamos un DF a partir del RDD del paso anterior."
   ]
  },
  {
   "cell_type": "code",
   "execution_count": 14,
   "metadata": {},
   "outputs": [],
   "source": [
    "#Casting para la transformación de RDD a DF\n",
    "DF_from_RDD_Moloch = DF_from_RDD_Moloch.map(lambda l :(\n",
    "    str(l[0]),\n",
    "    str(l[1]),\n",
    "    str(l[2]),\n",
    "    str(l[3]),\n",
    "    str(l[4])\n",
    "))"
   ]
  },
  {
   "cell_type": "code",
   "execution_count": 15,
   "metadata": {},
   "outputs": [],
   "source": [
    "RDD_raw_json_data = DF_from_RDD_Moloch.map(lambda x: (x[1],x[0],x[2],x[3],x[4]))"
   ]
  },
  {
   "cell_type": "code",
   "execution_count": 16,
   "metadata": {
    "scrolled": true
   },
   "outputs": [
    {
     "data": {
      "text/plain": [
       "10"
      ]
     },
     "execution_count": 16,
     "metadata": {},
     "output_type": "execute_result"
    }
   ],
   "source": [
    "RDD_raw_json_data.count()"
   ]
  },
  {
   "cell_type": "code",
   "execution_count": 17,
   "metadata": {
    "scrolled": false
   },
   "outputs": [
    {
     "data": {
      "text/plain": [
       "[('2019-11-22T00:16:18.042-06:00',\n",
       "  '\"{\\\\id\\\\\"\": 1\",\"\\\\\"\"dstDataBytes\\\\\"\": 84\",\" \\\\\"\"dstBytes\\\\\"\": 92\",\" \\\\\"\"packetLen\\\\\"\": [0\",104, 108],\" \\\\\"\"srcPort\\\\\"\": 41906\",\" \\\\\"\"totPackets\\\\\"\": 2\",\" \\\\\"\"packetPos\\\\\"\": [-20456,12452575424, 12452575528],\" \\\\\"\"srcPayload8\\\\\"\": \\\\\"\"302c02010104066e\\\\\"\"\",\" \\\\\"\"segmentCnt\\\\\"\": 1\",\" \\\\\"\"srcPackets\\\\\"\": 1\",\" \\\\\"\"protocol\\\\\"\": [\\\\\"\"udp\\\\\"\"\",\" \\\\\"\"snmp\\\\\"\"]\",\" \\\\\"\"lastPacket\\\\\"\": 1574403347879\",\" \\\\\"\"dstPort\\\\\"\": 161\",\" \\\\\"\"communityId\\\\\"\": \\\\\"\"1:iMBcVXr7c4KmnKeSnA/rTTFPvSo=\\\\\"\"\",\" \\\\\"\"dstPayload8\\\\\"\": \\\\\"\"303002010104066e\\\\\"\"\",\" \\\\\"\"timestamp\\\\\"\": 1574403378042\",\" \\\\\"\"srcBytes\\\\\"\": 88\",\" \\\\\"\"dstMacCnt\\\\\"\": 1\",\" \\\\\"\"srcIp\\\\\"\": \\\\\"\"10.33.14.35\\\\\"\"\",\" \\\\\"\"firstPacket\\\\\"\": 1574403347879\",\" \\\\\"\"srcDataBytes\\\\\"\": 80\",\" \\\\\"\"dstMac\\\\\"\": [\\\\\"\"40:ce:24:8a:ea:80\\\\\"\"]\",\" \\\\\"\"length\\\\\"\": 0\",\" \\\\\"\"srcMacCnt\\\\\"\": 1\",\" \\\\\"\"totDataBytes\\\\\"\": 164\",\" \\\\\"\"ipProtocol\\\\\"\": 17\",\" \\\\\"\"node\\\\\"\": \\\\\"\"localhost\\\\\"\"\",\" \\\\\"\"dstPackets\\\\\"\": 1\",\" \\\\\"\"protocolCnt\\\\\"\": 2\",\" \\\\\"\"totBytes\\\\\"\": 180\",\" \\\\\"\"srcMac\\\\\"\": [\\\\\"\"d0:27:88:42:f4:8a\\\\\"\"]\",\" \\\\\"\"dstIp\\\\\"\": \\\\\"\"10.33.191.126\\\\\"\"\",\" \\\\\"\"fileId\\\\\"\": [20456]}\"\"\"',\n",
       "  '191122-cLA1a4d6dN1NP6_r80RW_gke',\n",
       "  'sessions2-*',\n",
       "  '01/11/2019')]"
      ]
     },
     "execution_count": 17,
     "metadata": {},
     "output_type": "execute_result"
    }
   ],
   "source": [
    "RDD_raw_json_data.take(1)"
   ]
  },
  {
   "cell_type": "code",
   "execution_count": 18,
   "metadata": {},
   "outputs": [],
   "source": [
    "#En esta celda acondicionamos la columna de datos, que es un string en formato JSON\n",
    "#Se pueden apreciar las condiciones para \"aplanar\" la string a un formato JSON valido.\n",
    "RDD_clean_json_data = RDD_raw_json_data.\\\n",
    "                    map(lambda x: (x[0],x[1].replace(\"\\\"{\\\\\",\"{\\\"\").replace('}\\\"\\\"\\\"',\"}\")\\\n",
    "                                   .replace(\"\\\\\\\"\\\"\",\"\\\"\").replace(\"\\\",\\\"\\\"\",\",\\\"\")\\\n",
    "                                   .replace(\"\\\",\\\" \\\"\",\",\\\"\").replace(\"[0\\\",\",\"[0,\")\\\n",
    "                                   .replace(\",\\\" \\\"\",\",\\\"\").replace(\"\\\",\\\" \",\", \")\\\n",
    "                                   ,x[2],x[3],x[4]))"
   ]
  },
  {
   "cell_type": "code",
   "execution_count": 19,
   "metadata": {},
   "outputs": [
    {
     "data": {
      "text/plain": [
       "[('2019-11-22T00:16:18.042-06:00',\n",
       "  '{\"id\": 1,\"dstDataBytes\": 84,\"dstBytes\": 92,\"packetLen\": [0,104, 108],\"srcPort\": 41906,\"totPackets\": 2,\"packetPos\": [-20456,12452575424, 12452575528],\"srcPayload8\": \"302c02010104066e\",\"segmentCnt\": 1,\"srcPackets\": 1,\"protocol\": [\"udp\",\"snmp\"],\"lastPacket\": 1574403347879,\"dstPort\": 161,\"communityId\": \"1:iMBcVXr7c4KmnKeSnA/rTTFPvSo=\",\"dstPayload8\": \"303002010104066e\",\"timestamp\": 1574403378042,\"srcBytes\": 88,\"dstMacCnt\": 1,\"srcIp\": \"10.33.14.35\",\"firstPacket\": 1574403347879,\"srcDataBytes\": 80,\"dstMac\": [\"40:ce:24:8a:ea:80\"],\"length\": 0,\"srcMacCnt\": 1,\"totDataBytes\": 164,\"ipProtocol\": 17,\"node\": \"localhost\",\"dstPackets\": 1,\"protocolCnt\": 2,\"totBytes\": 180,\"srcMac\": [\"d0:27:88:42:f4:8a\"],\"dstIp\": \"10.33.191.126\",\"fileId\": [20456]}',\n",
       "  '191122-cLA1a4d6dN1NP6_r80RW_gke',\n",
       "  'sessions2-*',\n",
       "  '01/11/2019')]"
      ]
     },
     "execution_count": 19,
     "metadata": {},
     "output_type": "execute_result"
    }
   ],
   "source": [
    "#En esta celda comparamos los efectos de los reemplazamientos\n",
    "RDD_clean_json_data.take(1)"
   ]
  },
  {
   "cell_type": "code",
   "execution_count": 20,
   "metadata": {},
   "outputs": [],
   "source": [
    "#Establecemos un esquema para la creacion del DF a partir del RDD\n",
    "schemaMoloch = StructType([\n",
    "    StructField(\"time_stamp\", StringType(),False),\n",
    "    StructField(\"data_json\", StringType(), False),\n",
    "    StructField(\"id\", StringType(), False),\n",
    "    StructField(\"index\", StringType(), False),\n",
    "    StructField(\"partition\", StringType(), False),\n",
    "])"
   ]
  },
  {
   "cell_type": "code",
   "execution_count": 21,
   "metadata": {},
   "outputs": [],
   "source": [
    "#Creacion del DF\n",
    "DF_Moloch = sqlContext.createDataFrame(RDD_clean_json_data, schemaMoloch)"
   ]
  },
  {
   "cell_type": "code",
   "execution_count": 22,
   "metadata": {
    "scrolled": true
   },
   "outputs": [
    {
     "data": {
      "text/plain": [
       "10"
      ]
     },
     "execution_count": 22,
     "metadata": {},
     "output_type": "execute_result"
    }
   ],
   "source": [
    "#Comprobación de la integridad del DF\n",
    "DF_Moloch.count()"
   ]
  },
  {
   "cell_type": "markdown",
   "metadata": {},
   "source": [
    "## Solución del requerimiento 2."
   ]
  },
  {
   "cell_type": "code",
   "execution_count": 23,
   "metadata": {
    "scrolled": true
   },
   "outputs": [
    {
     "name": "stdout",
     "output_type": "stream",
     "text": [
      "+--------------------+--------------------+--------------------+-----------+----------+\n",
      "|          time_stamp|           data_json|                  id|      index| partition|\n",
      "+--------------------+--------------------+--------------------+-----------+----------+\n",
      "|2019-11-22T00:16:...|{\"id\": 1,\"dstData...|191122-cLA1a4d6dN...|sessions2-*|01/11/2019|\n",
      "|2019-11-22T20:52:...|{\"id\": 2,\"dstData...|191123-cLAIOqWgxI...|sessions2-*|01/11/2019|\n",
      "|2019-11-22T01:30:...|{\"id\": 3,\"dstData...|191122-cLAoQvjqLs...|sessions2-*|01/11/2019|\n",
      "|2019-11-22T14:45:...|{\"id\": 4,\"dstData...|191122-cLAKOAk2Fo...|sessions2-*|01/11/2019|\n",
      "|2019-11-22T08:31:...|{\"id\": 5,\"dstData...|191122-cLBr8zFauv...|sessions2-*|01/11/2019|\n",
      "|2019-11-22T00:16:...|{\"id\": 6,\"dstData...|191122-cLA1a4d6dN...|sessions2-*|01/11/2019|\n",
      "|2019-11-22T18:41:...|{\"id\": 7,\"rootId\"...|191123-cLA335QX0z...|sessions2-*|01/11/2019|\n",
      "|2019-11-22T16:57:...|{\"id\": 8,\"dstData...|191122-cLB0C_rAhV...|sessions2-*|01/11/2019|\n",
      "|2019-11-22T13:56:...|{\"id\": 9,\"dstData...|191122-cLB65aXVj2...|sessions2-*|01/11/2019|\n",
      "|2019-11-22T03:26:...|{\"id\": 10,\"dstDat...|191122-cLDXKXChm3...|sessions2-*|01/11/2019|\n",
      "+--------------------+--------------------+--------------------+-----------+----------+\n",
      "\n"
     ]
    }
   ],
   "source": [
    "DF_Moloch.show()"
   ]
  },
  {
   "cell_type": "markdown",
   "metadata": {},
   "source": [
    "#### 5) Creamos un RDD que contenga solo las strings en formato JSON.\n",
    "Nota: Este RDD nos permitirá crear un DF solo para esos datos"
   ]
  },
  {
   "cell_type": "code",
   "execution_count": 24,
   "metadata": {},
   "outputs": [],
   "source": [
    "RDD_OnlyJsonData = RDD_clean_json_data.map(lambda x : x[1])"
   ]
  },
  {
   "cell_type": "code",
   "execution_count": 25,
   "metadata": {
    "scrolled": false
   },
   "outputs": [
    {
     "data": {
      "text/plain": [
       "['{\"id\": 1,\"dstDataBytes\": 84,\"dstBytes\": 92,\"packetLen\": [0,104, 108],\"srcPort\": 41906,\"totPackets\": 2,\"packetPos\": [-20456,12452575424, 12452575528],\"srcPayload8\": \"302c02010104066e\",\"segmentCnt\": 1,\"srcPackets\": 1,\"protocol\": [\"udp\",\"snmp\"],\"lastPacket\": 1574403347879,\"dstPort\": 161,\"communityId\": \"1:iMBcVXr7c4KmnKeSnA/rTTFPvSo=\",\"dstPayload8\": \"303002010104066e\",\"timestamp\": 1574403378042,\"srcBytes\": 88,\"dstMacCnt\": 1,\"srcIp\": \"10.33.14.35\",\"firstPacket\": 1574403347879,\"srcDataBytes\": 80,\"dstMac\": [\"40:ce:24:8a:ea:80\"],\"length\": 0,\"srcMacCnt\": 1,\"totDataBytes\": 164,\"ipProtocol\": 17,\"node\": \"localhost\",\"dstPackets\": 1,\"protocolCnt\": 2,\"totBytes\": 180,\"srcMac\": [\"d0:27:88:42:f4:8a\"],\"dstIp\": \"10.33.191.126\",\"fileId\": [20456]}']"
      ]
     },
     "execution_count": 25,
     "metadata": {},
     "output_type": "execute_result"
    }
   ],
   "source": [
    "RDD_OnlyJsonData.take(1)"
   ]
  },
  {
   "cell_type": "code",
   "execution_count": 26,
   "metadata": {},
   "outputs": [],
   "source": [
    "import json"
   ]
  },
  {
   "cell_type": "code",
   "execution_count": 27,
   "metadata": {},
   "outputs": [],
   "source": [
    "#Ciclo constructor de schema\n",
    "#jsonSchema =  StructType([\n",
    "  #StructField(field, StringType(), False) for field in dataJsonFields\n",
    "#])"
   ]
  },
  {
   "cell_type": "markdown",
   "metadata": {},
   "source": [
    "#### 6) Creamos el DF a partir del RDD de strings en formato JSON."
   ]
  },
  {
   "cell_type": "code",
   "execution_count": 28,
   "metadata": {},
   "outputs": [],
   "source": [
    "onlyJsonData_DF = spark.read.json(RDD_OnlyJsonData, mode=\"PERMISSIVE\",multiLine = \"true\")"
   ]
  },
  {
   "cell_type": "code",
   "execution_count": 29,
   "metadata": {
    "scrolled": false
   },
   "outputs": [
    {
     "name": "stdout",
     "output_type": "stream",
     "text": [
      "root\n",
      " |-- cert: array (nullable = true)\n",
      " |    |-- element: struct (containsNull = true)\n",
      " |    |    |-- alt: array (nullable = true)\n",
      " |    |    |    |-- element: string (containsNull = true)\n",
      " |    |    |-- altCnt: long (nullable = true)\n",
      " |    |    |-- hash: string (nullable = true)\n",
      " |    |    |-- issuerCN: array (nullable = true)\n",
      " |    |    |    |-- element: string (containsNull = true)\n",
      " |    |    |-- issuerON: array (nullable = true)\n",
      " |    |    |    |-- element: string (containsNull = true)\n",
      " |    |    |-- notAfter: long (nullable = true)\n",
      " |    |    |-- notBefore: long (nullable = true)\n",
      " |    |    |-- remainingDays: long (nullable = true)\n",
      " |    |    |-- serial: string (nullable = true)\n",
      " |    |    |-- subjectCN: array (nullable = true)\n",
      " |    |    |    |-- element: string (containsNull = true)\n",
      " |    |    |-- subjectON: array (nullable = true)\n",
      " |    |    |    |-- element: string (containsNull = true)\n",
      " |    |    |-- validDays: long (nullable = true)\n",
      " |-- certCnt: long (nullable = true)\n",
      " |-- communityId: string (nullable = true)\n",
      " |-- dns: struct (nullable = true)\n",
      " |    |-- ASN: array (nullable = true)\n",
      " |    |    |-- element: string (containsNull = true)\n",
      " |    |-- GEO: array (nullable = true)\n",
      " |    |    |-- element: string (containsNull = true)\n",
      " |    |-- RIR: array (nullable = true)\n",
      " |    |    |-- element: string (containsNull = true)\n",
      " |    |-- host: array (nullable = true)\n",
      " |    |    |-- element: string (containsNull = true)\n",
      " |    |-- hostCnt: long (nullable = true)\n",
      " |    |-- ip: array (nullable = true)\n",
      " |    |    |-- element: string (containsNull = true)\n",
      " |    |-- ipCnt: long (nullable = true)\n",
      " |    |-- opcode: array (nullable = true)\n",
      " |    |    |-- element: string (containsNull = true)\n",
      " |    |-- opcodeCnt: long (nullable = true)\n",
      " |    |-- qc: array (nullable = true)\n",
      " |    |    |-- element: string (containsNull = true)\n",
      " |    |-- qcCnt: long (nullable = true)\n",
      " |    |-- qt: array (nullable = true)\n",
      " |    |    |-- element: string (containsNull = true)\n",
      " |    |-- qtCnt: long (nullable = true)\n",
      " |    |-- status: array (nullable = true)\n",
      " |    |    |-- element: string (containsNull = true)\n",
      " |    |-- statusCnt: long (nullable = true)\n",
      " |-- dstASN: string (nullable = true)\n",
      " |-- dstBytes: long (nullable = true)\n",
      " |-- dstDataBytes: long (nullable = true)\n",
      " |-- dstGEO: string (nullable = true)\n",
      " |-- dstIp: string (nullable = true)\n",
      " |-- dstMac: array (nullable = true)\n",
      " |    |-- element: string (containsNull = true)\n",
      " |-- dstMacCnt: long (nullable = true)\n",
      " |-- dstPackets: long (nullable = true)\n",
      " |-- dstPayload8: string (nullable = true)\n",
      " |-- dstPort: long (nullable = true)\n",
      " |-- fileId: array (nullable = true)\n",
      " |    |-- element: long (containsNull = true)\n",
      " |-- firstPacket: long (nullable = true)\n",
      " |-- http: struct (nullable = true)\n",
      " |    |-- bodyMagic: array (nullable = true)\n",
      " |    |    |-- element: string (containsNull = true)\n",
      " |    |-- bodyMagicCnt: long (nullable = true)\n",
      " |    |-- clientVersion: array (nullable = true)\n",
      " |    |    |-- element: string (containsNull = true)\n",
      " |    |-- clientVersionCnt: long (nullable = true)\n",
      " |    |-- host: array (nullable = true)\n",
      " |    |    |-- element: string (containsNull = true)\n",
      " |    |-- hostCnt: long (nullable = true)\n",
      " |    |-- key: array (nullable = true)\n",
      " |    |    |-- element: string (containsNull = true)\n",
      " |    |-- keyCnt: long (nullable = true)\n",
      " |    |-- md5: array (nullable = true)\n",
      " |    |    |-- element: string (containsNull = true)\n",
      " |    |-- md5Cnt: long (nullable = true)\n",
      " |    |-- method: array (nullable = true)\n",
      " |    |    |-- element: string (containsNull = true)\n",
      " |    |-- methodCnt: long (nullable = true)\n",
      " |    |-- path: array (nullable = true)\n",
      " |    |    |-- element: string (containsNull = true)\n",
      " |    |-- pathCnt: long (nullable = true)\n",
      " |    |-- requestHeader: array (nullable = true)\n",
      " |    |    |-- element: string (containsNull = true)\n",
      " |    |-- requestHeaderCnt: long (nullable = true)\n",
      " |    |-- responseHeader: array (nullable = true)\n",
      " |    |    |-- element: string (containsNull = true)\n",
      " |    |-- responseHeaderCnt: long (nullable = true)\n",
      " |    |-- serverVersion: array (nullable = true)\n",
      " |    |    |-- element: string (containsNull = true)\n",
      " |    |-- serverVersionCnt: long (nullable = true)\n",
      " |    |-- statuscode: array (nullable = true)\n",
      " |    |    |-- element: long (containsNull = true)\n",
      " |    |-- statuscodeCnt: long (nullable = true)\n",
      " |    |-- uri: array (nullable = true)\n",
      " |    |    |-- element: string (containsNull = true)\n",
      " |    |-- uriCnt: long (nullable = true)\n",
      " |    |-- useragent: array (nullable = true)\n",
      " |    |    |-- element: string (containsNull = true)\n",
      " |    |-- useragentCnt: long (nullable = true)\n",
      " |-- id: long (nullable = true)\n",
      " |-- initRTT: long (nullable = true)\n",
      " |-- ipProtocol: long (nullable = true)\n",
      " |-- lastPacket: long (nullable = true)\n",
      " |-- length: long (nullable = true)\n",
      " |-- node: string (nullable = true)\n",
      " |-- packetLen: array (nullable = true)\n",
      " |    |-- element: long (containsNull = true)\n",
      " |-- packetPos: array (nullable = true)\n",
      " |    |-- element: long (containsNull = true)\n",
      " |-- protocol: array (nullable = true)\n",
      " |    |-- element: string (containsNull = true)\n",
      " |-- protocolCnt: long (nullable = true)\n",
      " |-- rootId: string (nullable = true)\n",
      " |-- segmentCnt: long (nullable = true)\n",
      " |-- srcBytes: long (nullable = true)\n",
      " |-- srcDataBytes: long (nullable = true)\n",
      " |-- srcIp: string (nullable = true)\n",
      " |-- srcMac: array (nullable = true)\n",
      " |    |-- element: string (containsNull = true)\n",
      " |-- srcMacCnt: long (nullable = true)\n",
      " |-- srcPackets: long (nullable = true)\n",
      " |-- srcPayload8: string (nullable = true)\n",
      " |-- srcPort: long (nullable = true)\n",
      " |-- tags: array (nullable = true)\n",
      " |    |-- element: string (containsNull = true)\n",
      " |-- tagsCnt: long (nullable = true)\n",
      " |-- tcpflags: struct (nullable = true)\n",
      " |    |-- ack: long (nullable = true)\n",
      " |    |-- dstZero: long (nullable = true)\n",
      " |    |-- fin: long (nullable = true)\n",
      " |    |-- psh: long (nullable = true)\n",
      " |    |-- rst: long (nullable = true)\n",
      " |    |-- srcZero: long (nullable = true)\n",
      " |    |-- syn: long (nullable = true)\n",
      " |    |-- syn-ack: long (nullable = true)\n",
      " |    |-- urg: long (nullable = true)\n",
      " |-- timestamp: long (nullable = true)\n",
      " |-- tls: struct (nullable = true)\n",
      " |    |-- cipher: array (nullable = true)\n",
      " |    |    |-- element: string (containsNull = true)\n",
      " |    |-- cipherCnt: long (nullable = true)\n",
      " |    |-- ja3: array (nullable = true)\n",
      " |    |    |-- element: string (containsNull = true)\n",
      " |    |-- ja3Cnt: long (nullable = true)\n",
      " |    |-- ja3s: array (nullable = true)\n",
      " |    |    |-- element: string (containsNull = true)\n",
      " |    |-- ja3sCnt: long (nullable = true)\n",
      " |    |-- version: array (nullable = true)\n",
      " |    |    |-- element: string (containsNull = true)\n",
      " |    |-- versionCnt: long (nullable = true)\n",
      " |-- totBytes: long (nullable = true)\n",
      " |-- totDataBytes: long (nullable = true)\n",
      " |-- totPackets: long (nullable = true)\n",
      "\n"
     ]
    }
   ],
   "source": [
    "onlyJsonData_DF.printSchema()\n",
    "#En este paso comprobamos la integridad del DF"
   ]
  },
  {
   "cell_type": "markdown",
   "metadata": {},
   "source": [
    "#### 7) Declaramos el DF srcIP_DF a partir del DF onlyJsonData_DF."
   ]
  },
  {
   "cell_type": "code",
   "execution_count": 30,
   "metadata": {},
   "outputs": [],
   "source": [
    "srcIP_DF = onlyJsonData_DF.select(\"srcIP\",\"srcBytes\",\"totBytes\",\"length\")"
   ]
  },
  {
   "cell_type": "markdown",
   "metadata": {},
   "source": [
    "## Solución del requerimiento 3."
   ]
  },
  {
   "cell_type": "code",
   "execution_count": 31,
   "metadata": {
    "scrolled": true
   },
   "outputs": [
    {
     "name": "stdout",
     "output_type": "stream",
     "text": [
      "+--------------------+--------+--------+------+\n",
      "|               srcIP|srcBytes|totBytes|length|\n",
      "+--------------------+--------+--------+------+\n",
      "|         10.33.14.35|      88|     180|     0|\n",
      "|fe80::b1cb:ab14:b...|     178|     178|   414|\n",
      "+--------------------+--------+--------+------+\n",
      "only showing top 2 rows\n",
      "\n"
     ]
    }
   ],
   "source": [
    "srcIP_DF.show(2)"
   ]
  },
  {
   "cell_type": "markdown",
   "metadata": {},
   "source": [
    "## Promedios de los metadatos srcBytes, totBytes, length"
   ]
  },
  {
   "cell_type": "code",
   "execution_count": 32,
   "metadata": {
    "scrolled": false
   },
   "outputs": [
    {
     "name": "stdout",
     "output_type": "stream",
     "text": [
      "+-------------+-------------+-----------+\n",
      "|avg(srcBytes)|avg(totBytes)|avg(length)|\n",
      "+-------------+-------------+-----------+\n",
      "|       1179.0|       4091.0|    65430.5|\n",
      "+-------------+-------------+-----------+\n",
      "\n"
     ]
    }
   ],
   "source": [
    "srcIP_DF.select([mean('srcBytes'), mean('totBytes'), mean('length')]).show()"
   ]
  },
  {
   "cell_type": "markdown",
   "metadata": {},
   "source": [
    "## Desviaciones Estandar de los metadatos srcBytes, totBytes, length"
   ]
  },
  {
   "cell_type": "code",
   "execution_count": 33,
   "metadata": {
    "scrolled": false
   },
   "outputs": [
    {
     "name": "stdout",
     "output_type": "stream",
     "text": [
      "+---------------------+---------------------+-------------------+\n",
      "|stddev_samp(srcBytes)|stddev_samp(totBytes)|stddev_samp(length)|\n",
      "+---------------------+---------------------+-------------------+\n",
      "|   1667.4001719243447|    6843.912737283808| 206615.38485217193|\n",
      "+---------------------+---------------------+-------------------+\n",
      "\n"
     ]
    }
   ],
   "source": [
    "srcIP_DF.select([stddev('srcBytes'), stddev('totBytes'), stddev('length')]).show()"
   ]
  },
  {
   "cell_type": "markdown",
   "metadata": {},
   "source": [
    "#### 8) Declaramos la variable groupByProtocol_DF a partir del DF onlyJsonData_DF."
   ]
  },
  {
   "cell_type": "code",
   "execution_count": 34,
   "metadata": {},
   "outputs": [],
   "source": [
    "groupByProtocol_DF = onlyJsonData_DF.select(\"srcIP\",explode(\"protocol\").alias(\"hierarchy\")\\\n",
    "                                            ,\"srcBytes\",\"totBytes\",\"length\")"
   ]
  },
  {
   "cell_type": "code",
   "execution_count": 35,
   "metadata": {
    "scrolled": true
   },
   "outputs": [
    {
     "name": "stdout",
     "output_type": "stream",
     "text": [
      "+--------------------+---------+--------+--------+------+\n",
      "|               srcIP|hierarchy|srcBytes|totBytes|length|\n",
      "+--------------------+---------+--------+--------+------+\n",
      "|         10.33.14.35|      udp|      88|     180|     0|\n",
      "|         10.33.14.35|     snmp|      88|     180|     0|\n",
      "|fe80::b1cb:ab14:b...|      udp|     178|     178|   414|\n",
      "|fe80::b1cb:ab14:b...|    llmnr|     178|     178|   414|\n",
      "+--------------------+---------+--------+--------+------+\n",
      "only showing top 4 rows\n",
      "\n"
     ]
    }
   ],
   "source": [
    "groupByProtocol_DF.show(4)"
   ]
  },
  {
   "cell_type": "code",
   "execution_count": 36,
   "metadata": {},
   "outputs": [],
   "source": [
    "#Indexamos el DF para poder filtrar los protocolos acorde a la condición del req. 4\n",
    "indexedDF = groupByProtocol_DF.select(\"*\").withColumn(\"idx\", monotonically_increasing_id())"
   ]
  },
  {
   "cell_type": "markdown",
   "metadata": {},
   "source": [
    "#### 9) Hacemos un filtro del DF por jerarquía de protocolos"
   ]
  },
  {
   "cell_type": "code",
   "execution_count": 37,
   "metadata": {},
   "outputs": [],
   "source": [
    "#Filtramos los datos que cumplen con la cndición del req. 4\n",
    "secondHierarchy_DF = indexedDF.filter((indexedDF.idx%2 == 0))\\\n",
    "                        .filter((indexedDF.hierarchy != \"tcp\"))\\\n",
    "                        .filter((indexedDF.hierarchy != \"udp\"))"
   ]
  },
  {
   "cell_type": "markdown",
   "metadata": {},
   "source": [
    "## Solución del requerimiento 4."
   ]
  },
  {
   "cell_type": "code",
   "execution_count": 38,
   "metadata": {
    "scrolled": true
   },
   "outputs": [
    {
     "name": "stdout",
     "output_type": "stream",
     "text": [
      "+--------------------+---------+--------+--------+------+---+\n",
      "|               srcIP|hierarchy|srcBytes|totBytes|length|idx|\n",
      "+--------------------+---------+--------+--------+------+---+\n",
      "|         10.10.18.35|     http|    1632|    1632|     0|  6|\n",
      "|       10.33.176.205|     http|    5160|   21120|653468| 12|\n",
      "|       10.33.128.161|      tls|    1380|    7122|   400| 14|\n",
      "|fe80::b429:1e0a:1...|     http|    2756|    9434|    11| 16|\n",
      "+--------------------+---------+--------+--------+------+---+\n",
      "\n"
     ]
    }
   ],
   "source": [
    "secondHierarchy_DF.show()"
   ]
  },
  {
   "cell_type": "markdown",
   "metadata": {},
   "source": [
    "## Promedios de los metadatos srcBytes, totBytes, length"
   ]
  },
  {
   "cell_type": "code",
   "execution_count": 39,
   "metadata": {
    "scrolled": true
   },
   "outputs": [
    {
     "name": "stdout",
     "output_type": "stream",
     "text": [
      "+-------------+-------------+-----------+\n",
      "|avg(srcBytes)|avg(totBytes)|avg(length)|\n",
      "+-------------+-------------+-----------+\n",
      "|       2732.0|       9827.0|  163469.75|\n",
      "+-------------+-------------+-----------+\n",
      "\n"
     ]
    }
   ],
   "source": [
    "secondHierarchy_DF.select([mean('srcBytes'), mean('totBytes'), mean('length')]).show()"
   ]
  },
  {
   "cell_type": "markdown",
   "metadata": {},
   "source": [
    "## Desviaciones Estandar de los metadatos srcBytes, totBytes, length"
   ]
  },
  {
   "cell_type": "code",
   "execution_count": 40,
   "metadata": {},
   "outputs": [
    {
     "name": "stdout",
     "output_type": "stream",
     "text": [
      "+---------------------+---------------------+-------------------+\n",
      "|stddev_samp(srcBytes)|stddev_samp(totBytes)|stddev_samp(length)|\n",
      "+---------------------+---------------------+-------------------+\n",
      "|   1725.6558173633582|    8208.965586479213|  326665.5529665114|\n",
      "+---------------------+---------------------+-------------------+\n",
      "\n"
     ]
    }
   ],
   "source": [
    "secondHierarchy_DF.select([stddev('srcBytes'), stddev('totBytes'), stddev('length')]).show()"
   ]
  },
  {
   "cell_type": "markdown",
   "metadata": {},
   "source": [
    "## Fin de la prueba técnica."
   ]
  },
  {
   "cell_type": "code",
   "execution_count": 42,
   "metadata": {},
   "outputs": [
    {
     "data": {
      "text/html": [
       "\n",
       "            <div>\n",
       "                <p><b>SparkSession - in-memory</b></p>\n",
       "                \n",
       "        <div>\n",
       "            <p><b>SparkContext</b></p>\n",
       "\n",
       "            <p><a href=\"http://192.168.1.69:4040\">Spark UI</a></p>\n",
       "\n",
       "            <dl>\n",
       "              <dt>Version</dt>\n",
       "                <dd><code>v2.4.7</code></dd>\n",
       "              <dt>Master</dt>\n",
       "                <dd><code>local</code></dd>\n",
       "              <dt>AppName</dt>\n",
       "                <dd><code>Technical_Test</code></dd>\n",
       "            </dl>\n",
       "        </div>\n",
       "        \n",
       "            </div>\n",
       "        "
      ],
      "text/plain": [
       "<pyspark.sql.session.SparkSession at 0x7f4f1d6a7310>"
      ]
     },
     "execution_count": 42,
     "metadata": {},
     "output_type": "execute_result"
    }
   ],
   "source": [
    "spark"
   ]
  },
  {
   "cell_type": "code",
   "execution_count": 41,
   "metadata": {},
   "outputs": [],
   "source": [
    "#sc.stop()"
   ]
  }
 ],
 "metadata": {
  "kernelspec": {
   "display_name": "Python 3",
   "language": "python",
   "name": "python3"
  },
  "language_info": {
   "codemirror_mode": {
    "name": "ipython",
    "version": 3
   },
   "file_extension": ".py",
   "mimetype": "text/x-python",
   "name": "python",
   "nbconvert_exporter": "python",
   "pygments_lexer": "ipython3",
   "version": "3.7.9"
  }
 },
 "nbformat": 4,
 "nbformat_minor": 4
}
